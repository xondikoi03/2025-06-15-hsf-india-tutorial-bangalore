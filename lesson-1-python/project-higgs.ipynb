{
 "cells": [
  {
   "cell_type": "markdown",
   "id": "a2050b10-65b8-48ef-81fa-64a52340346f",
   "metadata": {
    "editable": true,
    "slideshow": {
     "slide_type": ""
    },
    "tags": []
   },
   "source": [
    "# Lesson 1 project: Finding Higgs decays"
   ]
  },
  {
   "cell_type": "markdown",
   "id": "9c2bf7e2-6b02-49fb-9fc5-888ef9406e78",
   "metadata": {
    "editable": true,
    "slideshow": {
     "slide_type": ""
    },
    "tags": []
   },
   "source": [
    "## Physics background"
   ]
  },
  {
   "cell_type": "markdown",
   "id": "f523b1a8-f121-4eb5-9e9a-2810c4b4e432",
   "metadata": {
    "editable": true,
    "slideshow": {
     "slide_type": ""
    },
    "tags": []
   },
   "source": [
    "The particle-search problem may be familiar to some of you—this background section is provided in case it isn't. If you know about this stuff already, you can skip to the next section.\n",
    "\n",
    "The general problem is that most of the particles we want to study are invisible to our instruments, but if we can observe the particles they decay into, we can reconstruct the original particles.\n",
    "\n",
    "For example, ${K^0}_S$ is a particle with no charge and a relatively short lifetime. It decays after $10^{-10}$ seconds, which is about 3 centimeters of flight close to the speed of light. Uncharged particles do not leave traces in tracking detectors, which work by collecting ionized gas from charged particles. Fortunately, ${K^0}_S$ often decays into two charged particles, $\\pi^+$ and $\\pi^-$. In a tracking detector, the $\\pi^+$ and $\\pi^-$ seem to come out of nowhere.\n",
    "\n",
    "On the left, we see a ${K^0}_S \\to \\pi^+ \\pi^-$ in a bubble chamber (1960's), and on the right, we see the same decay in the CMS silicon tracker (2010's). In both cases, the vertex where the ${K^0}_S$ was created is also visible."
   ]
  },
  {
   "cell_type": "markdown",
   "id": "3317bce5-a48a-4cc9-870d-84151a8656b4",
   "metadata": {
    "editable": true,
    "slideshow": {
     "slide_type": ""
    },
    "tags": []
   },
   "source": [
    "<center>\n",
    "<img src=\"../img/kshort-1.png\" style=\"height: 400px; margin-right: 20px\"><img src=\"../img/kshort-2.png\" style=\"height: 400px\">\n",
    "</center>"
   ]
  },
  {
   "cell_type": "markdown",
   "id": "b2a1b71c-a7df-43c7-8230-8bc45c3b2aa0",
   "metadata": {
    "editable": true,
    "slideshow": {
     "slide_type": ""
    },
    "tags": []
   },
   "source": [
    "In a tracking detector, we can fully measure the momentum of charged particles, and since energy and momentum are conserved in decays, we know that the sum of energy and momentum of the decay products ($\\pi^+$ and $\\pi^-$) are the energy and momentum of the particle that decayed (${K^0}_S$). Using\n",
    "\n",
    "$$p = \\sqrt{{p_x}^2 + {p_y}^2 + {p_z}^2}$$\n",
    "\n",
    "$$m = \\sqrt{E^2 - p^2}$$\n",
    "\n",
    "we can reconstruct the mass $m$ of the particle that decayed.\n",
    "\n",
    "The problem is identifying which two tracks are the decay products of the specific particle we're interested in. A collision event produces many particles and many tracks."
   ]
  },
  {
   "cell_type": "markdown",
   "id": "5ed111f6-99ce-4199-809f-78778a0e5eb7",
   "metadata": {
    "editable": true,
    "slideshow": {
     "slide_type": ""
    },
    "tags": []
   },
   "source": [
    "<center>\n",
    "<img src=\"../img/090324_ALICE-hirez.jpg\" style=\"height: 400px\">\n",
    "</center>"
   ]
  },
  {
   "cell_type": "markdown",
   "id": "bd86ee73-97a9-4bb1-a8c2-05ad61a053a3",
   "metadata": {
    "editable": true,
    "slideshow": {
     "slide_type": ""
    },
    "tags": []
   },
   "source": [
    "Luckily, for most pairs of those tracks, the reconstructed mass is nowhere near the true mass of the particle. When we iterate over all pairs of tracks, compute the reconstructed masses, and plot a histogram of them, we usually see something like"
   ]
  },
  {
   "cell_type": "markdown",
   "id": "e8a9db3f-189b-4b76-8edb-cba56a0a84b4",
   "metadata": {
    "editable": true,
    "slideshow": {
     "slide_type": ""
    },
    "tags": []
   },
   "source": [
    "<center>\n",
    "<img src=\"../img/kshort-3.png\" style=\"height: 500px\">\n",
    "</center>"
   ]
  },
  {
   "cell_type": "markdown",
   "id": "c8773186-b7ed-45c2-8e9e-b688342a1162",
   "metadata": {
    "editable": true,
    "slideshow": {
     "slide_type": ""
    },
    "tags": []
   },
   "source": [
    "The peak consists of true ${K^0}_S \\to \\pi^+ \\pi^-$ decays, and it is not perfectly narrow because of detector resolution and quantum mechanics. (Very short lived particles have wide mass distributions.) The background under the peak consists of random track pairs that were not ${K^0}_S \\to \\pi^+ \\pi^-$ decays.\n",
    "\n",
    "In this exercise, you will be looking for Higgs decays, which have two stages:\n",
    "\n",
    "$$H \\to ZZ$$\n",
    "\n",
    "$$Z \\to e^+e^- \\mbox{\\hspace{0.25 cm}or\\hspace{0.25 cm}} Z \\to \\mu^+\\mu^-$$"
   ]
  },
  {
   "cell_type": "markdown",
   "id": "671101ee-b487-4063-9c18-68dae1b56ed5",
   "metadata": {
    "editable": true,
    "slideshow": {
     "slide_type": ""
    },
    "tags": []
   },
   "source": [
    "<center>\n",
    "<img src=\"../img/higgs-to-four-leptons-diagram.png\" style=\"height: 400px\">\n",
    "</center>"
   ]
  },
  {
   "cell_type": "markdown",
   "id": "3de3ab60-0fe5-4154-aa23-3fcd3b39dfa0",
   "metadata": {
    "editable": true,
    "slideshow": {
     "slide_type": ""
    },
    "tags": []
   },
   "source": [
    "Our detectors can distinguish charge ($e^+$ versus $e^-$) and flavor ($e$ versus $\\mu$), but a collision event may have more electrons or muons than the ones that came from Higgs or Z decays. The challenge will be to iterate through these collections to reconstruct Higgs candidates without double-counting or under-counting."
   ]
  },
  {
   "cell_type": "markdown",
   "id": "6f90e80a-4723-4e54-b77f-3943c48f73c1",
   "metadata": {
    "editable": true,
    "slideshow": {
     "slide_type": ""
    },
    "tags": []
   },
   "source": [
    "## Getting data, building objects"
   ]
  },
  {
   "cell_type": "markdown",
   "id": "f907735a-a69e-4447-b2fa-eb5149eeaca0",
   "metadata": {
    "editable": true,
    "slideshow": {
     "slide_type": ""
    },
    "tags": []
   },
   "source": [
    "Since this is a new notebook, we need to import the packages we'll be using and load the data."
   ]
  },
  {
   "cell_type": "code",
   "execution_count": 1,
   "id": "88e6bc5f-a42f-49a6-8a02-659da871d1b7",
   "metadata": {
    "editable": true,
    "slideshow": {
     "slide_type": ""
    },
    "tags": []
   },
   "outputs": [],
   "source": [
    "import json\n",
    "\n",
    "import numpy as np\n",
    "import vector\n",
    "\n",
    "dataset = json.load(open(\"../data/SMHiggsToZZTo4L.json\"))\n",
    "\n",
    "def to_vector(particle):\n",
    "    return vector.obj(\n",
    "        pt=particle[\"pt\"],\n",
    "        eta=particle[\"eta\"],\n",
    "        phi=particle[\"phi\"],\n",
    "        mass=particle[\"mass\"],\n",
    "    )"
   ]
  },
  {
   "cell_type": "markdown",
   "id": "6130f4c4-006c-4147-93ef-941ff704ffad",
   "metadata": {},
   "source": [
    "Let's make one collection of electrons and muons (collectively called \"leptons\") from one event as a list of Python dicts.\n",
    "\n",
    "(In general, it would be better to use Python classes than Python dicts, since classes can be constrained with type annotations, but we won't be using classes or Python typing in any of the next Python lessons, so I won't introduce them here, either.)"
   ]
  },
  {
   "cell_type": "code",
   "execution_count": 2,
   "id": "d5135b23-cc31-4602-87fc-1355592b6dd9",
   "metadata": {},
   "outputs": [],
   "source": [
    "electrons_and_muons = []   # collectively known as \"leptons\"\n",
    "\n",
    "event = dataset[96]   # a nice event with 3 electrons and 3 muons\n",
    "\n",
    "for particle in event[\"electron\"]:\n",
    "    electrons_and_muons.append({\n",
    "        \"type\": \"electron\",\n",
    "        \"charge\": particle[\"charge\"],\n",
    "        \"vector\": to_vector(particle),\n",
    "    })\n",
    "\n",
    "for particle in event[\"muon\"]:\n",
    "    electrons_and_muons.append({\n",
    "        \"type\": \"muon\",\n",
    "        \"charge\": particle[\"charge\"],\n",
    "        \"vector\": to_vector(particle),\n",
    "    })"
   ]
  },
  {
   "cell_type": "markdown",
   "id": "d1a3af88-3ecf-4aa7-8bca-f7f91868d0c1",
   "metadata": {},
   "source": [
    "Now, as a first draft (\"step 0\") of forming Z candidates, we'll make all non-repeating pairs of leptons (electrons and muons).\n",
    "\n",
    "We'll use the `enumerate` function:\n",
    "\n",
    "```python\n",
    "list(enumerate([\"a\", \"b\", \"c\"])) == [(0, \"a\"), (1, \"b\"), (2, \"c\")]\n",
    "```\n",
    "\n",
    "and a nested for loop with `index_i < index_j` to ensure that if we include pair $(i, j)$, we don't also include $(j, i)$ (and also don't include $i = j$)."
   ]
  },
  {
   "cell_type": "code",
   "execution_count": 6,
   "id": "48c63f64-13c4-40cb-874a-25ad89718069",
   "metadata": {},
   "outputs": [],
   "source": [
    "z_candidates_step0 = []\n",
    "\n",
    "for index_i, particle_i in enumerate(electrons_and_muons):\n",
    "    for index_j, particle_j in enumerate(electrons_and_muons):\n",
    "        if index_i < index_j:\n",
    "            z_candidates_step0.append({\n",
    "                \"index\": [index_i, index_j],\n",
    "                \"types\": [particle_i[\"type\"], particle_j[\"type\"]],\n",
    "                \"charge\": particle_i[\"charge\"] + particle_j[\"charge\"],\n",
    "                \"vector\": particle_i[\"vector\"] + particle_j[\"vector\"],\n",
    "            })"
   ]
  },
  {
   "cell_type": "markdown",
   "id": "1274d0f6-ac0a-43b1-9f06-7df22517fccd",
   "metadata": {},
   "source": [
    "There are 15 lepton pairs in this event."
   ]
  },
  {
   "cell_type": "code",
   "execution_count": 7,
   "id": "9f3f05e9-4b54-4c42-9f2c-e92a0518aaa3",
   "metadata": {},
   "outputs": [
    {
     "data": {
      "text/plain": [
       "15"
      ]
     },
     "execution_count": 7,
     "metadata": {},
     "output_type": "execute_result"
    }
   ],
   "source": [
    "len(z_candidates_step0)"
   ]
  },
  {
   "cell_type": "markdown",
   "id": "f4a0a661-9cbe-471d-b34b-63ad1c1f32fe",
   "metadata": {},
   "source": [
    "Here's what they look like."
   ]
  },
  {
   "cell_type": "code",
   "execution_count": 8,
   "id": "e78d59ca-6900-4a20-b284-3450168b00b6",
   "metadata": {},
   "outputs": [
    {
     "data": {
      "text/plain": [
       "[{'index': [0, 1],\n",
       "  'types': ['electron', 'electron'],\n",
       "  'charge': 2,\n",
       "  'vector': MomentumObject4D(pt=40.084151950131194, phi=-0.6580858017992637, eta=-1.2143331645098763, mass=32.24456915679218)},\n",
       " {'index': [0, 2],\n",
       "  'types': ['electron', 'electron'],\n",
       "  'charge': 0,\n",
       "  'vector': MomentumObject4D(pt=6.464674561578544, phi=0.10078897794774777, eta=-3.989514832524117, mass=94.65200565609618)},\n",
       " {'index': [0, 3],\n",
       "  'types': ['electron', 'muon'],\n",
       "  'charge': 0,\n",
       "  'vector': MomentumObject4D(pt=30.812644923851234, phi=-0.412697403556324, eta=-1.9702089194061905, mass=62.033974889441176)},\n",
       " {'index': [0, 4],\n",
       "  'types': ['electron', 'muon'],\n",
       "  'charge': 2,\n",
       "  'vector': MomentumObject4D(pt=55.701820519681725, phi=-0.43045845531439664, eta=-1.1773805208456656, mass=30.631403745232788)},\n",
       " {'index': [0, 5],\n",
       "  'types': ['electron', 'muon'],\n",
       "  'charge': 2,\n",
       "  'vector': MomentumObject4D(pt=39.473160288191224, phi=-0.6524413545119159, eta=-1.2506105973324255, mass=34.23861813708032)},\n",
       " {'index': [1, 2],\n",
       "  'types': ['electron', 'electron'],\n",
       "  'charge': 0,\n",
       "  'vector': MomentumObject4D(pt=45.698085216230076, phi=2.312330094981199, eta=-1.83858341771892, mass=3.417050436103103)},\n",
       " {'index': [1, 3],\n",
       "  'types': ['electron', 'muon'],\n",
       "  'charge': 0,\n",
       "  'vector': MomentumObject4D(pt=22.591766081184634, phi=1.98399761429663, eta=-1.8995903966627266, mass=3.0877329094985995)},\n",
       " {'index': [1, 4],\n",
       "  'types': ['electron', 'muon'],\n",
       "  'charge': 2,\n",
       "  'vector': MomentumObject4D(pt=16.542286068162028, phi=0.6344481184017461, eta=-1.7724606743114646, mass=14.922348921004309)},\n",
       " {'index': [1, 5],\n",
       "  'types': ['electron', 'muon'],\n",
       "  'charge': 2,\n",
       "  'vector': MomentumObject4D(pt=10.84880571267206, phi=2.1492898041752797, eta=-1.7009633346999835, mass=0.14549763186225548)},\n",
       " {'index': [2, 3],\n",
       "  'types': ['electron', 'muon'],\n",
       "  'charge': -2,\n",
       "  'vector': MomentumObject4D(pt=57.29693877301669, phi=2.213745500274828, eta=-1.897818590379693, mass=10.82878675236218)},\n",
       " {'index': [2, 4],\n",
       "  'types': ['electron', 'muon'],\n",
       "  'charge': 0,\n",
       "  'vector': MomentumObject4D(pt=36.95922853480514, phi=1.9002749252865225, eta=-2.1734110902429054, mass=45.69023328291932)},\n",
       " {'index': [2, 5],\n",
       "  'types': ['electron', 'muon'],\n",
       "  'charge': 0,\n",
       "  'vector': MomentumObject4D(pt=46.33886315685653, phi=2.3098405610093318, eta=-1.836994136824686, mass=3.662258378013069)},\n",
       " {'index': [3, 4],\n",
       "  'types': ['muon', 'muon'],\n",
       "  'charge': 0,\n",
       "  'vector': MomentumObject4D(pt=24.06421811530411, phi=1.1497386717456664, eta=-2.0724294483460883, mass=26.45024522236556)},\n",
       " {'index': [3, 5],\n",
       "  'types': ['muon', 'muon'],\n",
       "  'charge': 0,\n",
       "  'vector': MomentumObject4D(pt=23.235582917776497, phi=1.9881887244583885, eta=-1.894832011571504, mass=3.2737370390909524)},\n",
       " {'index': [4, 5],\n",
       "  'types': ['muon', 'muon'],\n",
       "  'charge': 2,\n",
       "  'vector': MomentumObject4D(pt=16.601217831332843, phi=0.6735693652124386, eta=-1.80301124459845, mass=15.8366294045939)}]"
      ]
     },
     "execution_count": 8,
     "metadata": {},
     "output_type": "execute_result"
    }
   ],
   "source": [
    "z_candidates_step0"
   ]
  },
  {
   "cell_type": "markdown",
   "id": "24875b0d-37a6-4ccd-a90e-ba3ad73e01fe",
   "metadata": {
    "editable": true,
    "slideshow": {
     "slide_type": ""
    },
    "tags": []
   },
   "source": [
    "<br><br><br><br><br>"
   ]
  },
  {
   "cell_type": "markdown",
   "id": "10153a32-e5e6-47e3-bdfb-3c0c9e992b4a",
   "metadata": {
    "editable": true,
    "slideshow": {
     "slide_type": ""
    },
    "tags": []
   },
   "source": [
    "## Exercise part 1"
   ]
  },
  {
   "cell_type": "markdown",
   "id": "1761bb0e-b1e6-47bb-a8a0-7bce3f1288b2",
   "metadata": {
    "editable": true,
    "slideshow": {
     "slide_type": ""
    },
    "tags": []
   },
   "source": [
    "Z bosons always decay into particles of opposite charge and identical flavor. Reduce the set of candidates by excluding ones with the wrong properties.\n",
    "\n",
    "Replace the `if ...:` with an `if` statement that selects lepton pairs with the right properties."
   ]
  },
  {
   "cell_type": "code",
   "execution_count": 14,
   "id": "f007a030-b7c4-4d6f-9bb1-95972b70af96",
   "metadata": {},
   "outputs": [],
   "source": [
    "z_candidates_step1 = []\n",
    "\n",
    "for candidate in z_candidates_step0:\n",
    "    if candidate[\"charge\"] == 0 and (candidate[\"types\"][0] == candidate[\"types\"][1]) :\n",
    "        z_candidates_step1.append(candidate)"
   ]
  },
  {
   "cell_type": "markdown",
   "id": "17721bf5-6745-4f01-86e2-0c12646048e2",
   "metadata": {},
   "source": [
    "Of the original 15 lepton pairs, you should only have 4 left."
   ]
  },
  {
   "cell_type": "code",
   "execution_count": 15,
   "id": "e8aa5cdd-41f1-4d45-8213-07726e525639",
   "metadata": {},
   "outputs": [
    {
     "name": "stdout",
     "output_type": "stream",
     "text": [
      "['electron', 'electron'] 94.65200565609618\n",
      "['electron', 'electron'] 3.417050436103103\n",
      "['muon', 'muon'] 26.45024522236556\n",
      "['muon', 'muon'] 3.2737370390909524\n"
     ]
    }
   ],
   "source": [
    "for candidate in z_candidates_step1:\n",
    "    print(candidate[\"types\"], candidate[\"vector\"].mass)"
   ]
  },
  {
   "cell_type": "markdown",
   "id": "7288001f-c056-450e-ae35-a3e21ef9dc3f",
   "metadata": {},
   "source": [
    "should look like\n",
    "\n",
    "```\n",
    "['electron', 'electron'] 94.65200565609612\n",
    "['electron', 'electron'] 3.417050436103103\n",
    "['muon', 'muon'] 26.450245222365524\n",
    "['muon', 'muon'] 3.2737370390906744\n",
    "```"
   ]
  },
  {
   "cell_type": "markdown",
   "id": "71e07ff3-3b90-4c92-a2f9-15496c10fac9",
   "metadata": {
    "editable": true,
    "slideshow": {
     "slide_type": ""
    },
    "tags": []
   },
   "source": [
    "<br><br><br><br><br>"
   ]
  },
  {
   "cell_type": "markdown",
   "id": "c67d3d69-b4cd-4450-bfd5-6b9e9848c812",
   "metadata": {
    "editable": true,
    "slideshow": {
     "slide_type": ""
    },
    "tags": []
   },
   "source": [
    "## Exercise part 2"
   ]
  },
  {
   "cell_type": "markdown",
   "id": "10e6af0c-4b45-46af-8959-bfd424ea96a1",
   "metadata": {
    "editable": true,
    "slideshow": {
     "slide_type": ""
    },
    "tags": []
   },
   "source": [
    "The Higgs boson decays into two Z bosons. The only constraint here is that a lepton from one Z decay can't also be a lepton from the other Z decay.\n",
    "\n",
    "Replace the `if ...:` with an `if` statement that rejects double-counted indexes."
   ]
  },
  {
   "cell_type": "code",
   "execution_count": 18,
   "id": "2e4dfc02-ac46-4da4-8fc3-2f0d1e45dc1f",
   "metadata": {},
   "outputs": [],
   "source": [
    "higgs_candidates_step1 = []\n",
    "\n",
    "for z_index1, z_candidate1 in enumerate(z_candidates_step1):\n",
    "    for z_index2, z_candidate2 in enumerate(z_candidates_step1):\n",
    "        if z_index1 < z_index2:\n",
    "            lepton_i1, lepton_j1 = z_candidate1[\"index\"]\n",
    "            lepton_i2, lepton_j2 = z_candidate2[\"index\"]\n",
    "            # the same lepton indices shouldn't be the same for both\n",
    "            if lepton_i1 < lepton_i2 and lepton_j1 < lepton_j2:\n",
    "                higgs_candidates_step1.append({\n",
    "                    \"z_candidates\": [z_candidate1, z_candidate2],\n",
    "                    \"vector\": z_candidate1[\"vector\"] + z_candidate2[\"vector\"],\n",
    "                })"
   ]
  },
  {
   "cell_type": "markdown",
   "id": "ba8c6738-8cc1-411d-a377-8a7540efba40",
   "metadata": {},
   "source": [
    "There should be 4 Higgs candidates at this stage."
   ]
  },
  {
   "cell_type": "code",
   "execution_count": 23,
   "id": "e115d55e-e975-489a-b3cc-f2a4e418cb66",
   "metadata": {},
   "outputs": [
    {
     "name": "stdout",
     "output_type": "stream",
     "text": [
      "0 2 3 4 129.0346159691587\n",
      "0 2 3 5 118.8311777089631\n",
      "1 2 3 4 56.10989169721264\n",
      "1 2 3 5 12.750734071856588\n"
     ]
    }
   ],
   "source": [
    "for higgs_candidate in higgs_candidates_step1:\n",
    "    z_candidate1, z_candidate2 = higgs_candidate[\"z_candidates\"]\n",
    "    lepton_index1, lepton_index2 = z_candidate1[\"index\"]\n",
    "    lepton_index3, lepton_index4 = z_candidate2[\"index\"]\n",
    "    print(\n",
    "        lepton_index1,\n",
    "        lepton_index2,\n",
    "        lepton_index3,\n",
    "        lepton_index4,\n",
    "        higgs_candidate[\"vector\"].mass,\n",
    "    )"
   ]
  },
  {
   "cell_type": "markdown",
   "id": "7cfdd0db-b2de-45c3-a007-31cbda80518f",
   "metadata": {},
   "source": [
    "should look like\n",
    "\n",
    "```\n",
    "0 2 3 4 129.03461596915852\n",
    "0 2 3 5 118.8311777089631\n",
    "1 2 3 4 56.10989169721264\n",
    "1 2 3 5 12.750734071856018\n",
    "```"
   ]
  },
  {
   "cell_type": "markdown",
   "id": "b30c78d7-a4d8-4124-9242-b6221f2d5300",
   "metadata": {
    "tags": []
   },
   "source": [
    "Even though each candidate avoids double-counting within itself, the same combination of four indexes can be found among the candidates. We want only one of each.\n",
    "\n",
    "Let's collect these Higgs candidates by unique sets of indexes. The `sorted` function sorts a list, and `tuple` makes it possible to use them as keys in a dict."
   ]
  },
  {
   "cell_type": "code",
   "execution_count": 25,
   "id": "cb020e6a-fc4e-42d3-a756-266e66c2aacc",
   "metadata": {
    "tags": []
   },
   "outputs": [
    {
     "name": "stdout",
     "output_type": "stream",
     "text": [
      "{'z_candidates': [{'index': [1, 2], 'types': ['electron', 'electron'], 'charge': 0, 'vector': MomentumObject4D(pt=45.698085216230076, phi=2.312330094981199, eta=-1.83858341771892, mass=3.417050436103103)}, {'index': [3, 5], 'types': ['muon', 'muon'], 'charge': 0, 'vector': MomentumObject4D(pt=23.235582917776497, phi=1.9881887244583885, eta=-1.894832011571504, mass=3.2737370390909524)}], 'vector': MomentumObject4D(pt=68.12680024389549, phi=2.2034882228596313, eta=-1.869102689335259, mass=12.750734071856588)}\n"
     ]
    }
   ],
   "source": [
    "higgs_candidates_step2 = {}\n",
    "\n",
    "for higgs_candidate in higgs_candidates_step1:\n",
    "    z_candidate1, z_candidate2 = higgs_candidate[\"z_candidates\"]\n",
    "    lepton_index1, lepton_index2 = z_candidate1[\"index\"]\n",
    "    lepton_index3, lepton_index4 = z_candidate2[\"index\"]\n",
    "\n",
    "    combination = tuple(sorted([\n",
    "        lepton_index1, lepton_index2, lepton_index3, lepton_index4\n",
    "    ]))\n",
    "\n",
    "    if combination not in higgs_candidates_step2:\n",
    "        higgs_candidates_step2[combination] = []\n",
    "\n",
    "    higgs_candidates_step2[combination].append(higgs_candidate)\n",
    "print(higgs_candidate)"
   ]
  },
  {
   "cell_type": "markdown",
   "id": "b43ec255-4287-4e2d-9400-84bfdc215301",
   "metadata": {
    "tags": []
   },
   "source": [
    "This `higgs_candidates_step2` has deep structure:\n",
    "\n",
    "  * Keys are sets combinations of lepton indexes, without regard for their original order.\n",
    "  * Values are a list of decay trees.\n",
    "    - Each element of that list has a candidate Higgs mass and two candidate Z masses."
   ]
  },
  {
   "cell_type": "code",
   "execution_count": 26,
   "id": "67780bb2-c8f8-4866-868f-caa8d4b930e6",
   "metadata": {
    "editable": true,
    "slideshow": {
     "slide_type": ""
    },
    "tags": []
   },
   "outputs": [
    {
     "name": "stdout",
     "output_type": "stream",
     "text": [
      "(0, 2, 3, 4)\n",
      "    Higgs: 129.0346159691587 Z: 94.65200565609618 26.45024522236556\n",
      "(0, 2, 3, 5)\n",
      "    Higgs: 118.8311777089631 Z: 94.65200565609618 3.2737370390909524\n",
      "(1, 2, 3, 4)\n",
      "    Higgs: 56.10989169721264 Z: 3.417050436103103 26.45024522236556\n",
      "(1, 2, 3, 5)\n",
      "    Higgs: 12.750734071856588 Z: 3.417050436103103 3.2737370390909524\n"
     ]
    }
   ],
   "source": [
    "for combination in higgs_candidates_step2:\n",
    "    print(combination)\n",
    "    for higgs_candidate in higgs_candidates_step2[combination]:\n",
    "        z_candidate1, z_candidate2 = higgs_candidate[\"z_candidates\"]\n",
    "        print(\n",
    "            \"    Higgs:\",\n",
    "            higgs_candidate[\"vector\"].mass,\n",
    "            \"Z:\",\n",
    "            z_candidate1[\"vector\"].mass,\n",
    "            z_candidate2[\"vector\"].mass,\n",
    "        )"
   ]
  },
  {
   "cell_type": "markdown",
   "id": "766e175b-3f31-4be9-805d-018aa6816375",
   "metadata": {},
   "source": [
    "should look like\n",
    "\n",
    "```\n",
    "(0, 2, 3, 4)\n",
    "    Higgs: 129.03461596915852 Z: 94.65200565609612 26.450245222365524\n",
    "(0, 2, 3, 5)\n",
    "    Higgs: 118.8311777089631 Z: 94.65200565609612 3.2737370390906744\n",
    "(1, 2, 3, 4)\n",
    "    Higgs: 56.10989169721264 Z: 3.417050436103103 26.450245222365524\n",
    "(1, 2, 3, 5)\n",
    "    Higgs: 12.750734071856018 Z: 3.417050436103103 3.2737370390906744\n",
    "```"
   ]
  },
  {
   "cell_type": "markdown",
   "id": "2f06120c-afcf-4c54-a34d-8aaf4c781c0a",
   "metadata": {
    "editable": true,
    "slideshow": {
     "slide_type": ""
    },
    "tags": []
   },
   "source": [
    "<br><br><br><br><br>"
   ]
  },
  {
   "cell_type": "markdown",
   "id": "484ae788-99d0-4373-be10-b0fc65f4bcaa",
   "metadata": {
    "editable": true,
    "slideshow": {
     "slide_type": ""
    },
    "tags": []
   },
   "source": [
    "## Exercise part 3"
   ]
  },
  {
   "cell_type": "markdown",
   "id": "9316520c-235c-47a1-a92a-71f26b84559f",
   "metadata": {
    "editable": true,
    "slideshow": {
     "slide_type": ""
    },
    "tags": []
   },
   "source": [
    "One of the selections that the 2012 Higgs discovery analysis applied was:\n",
    "\n",
    "  * 12 GeV/$c^2$ < smallest Z mass < 120 GeV/$c^2$\n",
    "  * 40 GeV/$c^2$ < largest Z mass < 120 GeV/$c^2$\n",
    "\n",
    "because this is expected of real Higgs decays.\n",
    "\n",
    "Apply the Z mass constraint to these Higgs candidates. (You may want to replace more than the `...` expressions.)"
   ]
  },
  {
   "cell_type": "code",
   "execution_count": null,
   "id": "5c0aac27-2f62-4fef-897d-c96ffc85aa9f",
   "metadata": {},
   "outputs": [],
   "source": [
    "higgs_candidates_step3 = {}\n",
    "\n",
    "for combination in higgs_candidates_step2:\n",
    "    higgs_candidates_step3[combination] = []\n",
    "\n",
    "    for higgs_candidate in higgs_candidates_step2[combination]:\n",
    "        z_candidate1, z_candidate2 = higgs_candidate[\"z_candidates\"]\n",
    "        smallest_z_mass = ...\n",
    "        largest_z_mass = ...\n",
    "\n",
    "        if 12 < smallest_z_mass < 120 and 40 < largest_z_mass < 120:\n",
    "            higgs_candidates_step3[combination].append(higgs_candidate)"
   ]
  },
  {
   "cell_type": "markdown",
   "id": "7ca06eec-b759-4bb6-8b25-a9b5cde4a041",
   "metadata": {
    "tags": []
   },
   "source": [
    "In the end,"
   ]
  },
  {
   "cell_type": "code",
   "execution_count": null,
   "id": "2a35f919-2a5f-4cfc-93a6-338563190e5c",
   "metadata": {
    "tags": []
   },
   "outputs": [],
   "source": [
    "for combination in higgs_candidates_step3:\n",
    "    print(combination)\n",
    "    for higgs_candidate in higgs_candidates_step3[combination]:\n",
    "        z_candidate1, z_candidate2 = higgs_candidate[\"z_candidates\"]\n",
    "        print(\n",
    "            \"    Higgs:\",\n",
    "            higgs_candidate[\"vector\"].mass,\n",
    "            \"Z:\",\n",
    "            z_candidate1[\"vector\"].mass,\n",
    "            z_candidate2[\"vector\"].mass,\n",
    "        )"
   ]
  },
  {
   "cell_type": "markdown",
   "id": "445c8895-d5b3-4bd7-b1ec-06589c9ccfca",
   "metadata": {
    "editable": true,
    "slideshow": {
     "slide_type": ""
    },
    "tags": []
   },
   "source": [
    "should be\n",
    "\n",
    "```\n",
    "(0, 2, 3, 4)\n",
    "    Higgs: 129.03461596915852 Z: 94.65200565609612 26.450245222365524\n",
    "(0, 2, 3, 5)\n",
    "(1, 2, 3, 4)\n",
    "(1, 2, 3, 5)\n",
    "```\n",
    "\n",
    "Only one of the combinations has a satisfactory Higgs candidate.\n",
    "\n",
    "Its mass is about right, too (125 GeV)."
   ]
  },
  {
   "cell_type": "markdown",
   "id": "751ace3b-39a1-4e51-87a0-f3f1d3fd8899",
   "metadata": {
    "editable": true,
    "slideshow": {
     "slide_type": ""
    },
    "tags": []
   },
   "source": [
    "<br><br><br>"
   ]
  },
  {
   "cell_type": "markdown",
   "id": "dffce465-7ee6-49b9-80fc-5cdd8ac65f0c",
   "metadata": {
    "editable": true,
    "slideshow": {
     "slide_type": ""
    },
    "tags": []
   },
   "source": [
    "This aspect of particle physics—the fact that observed particles can be associated with a decay tree in multiple ways—is known as \"combinatorics.\"\n",
    "\n",
    "<br>\n",
    "\n",
    "Complex, nested data structures and combinatorics are essential aspects of particle physics analysis."
   ]
  }
 ],
 "metadata": {
  "kernelspec": {
   "display_name": "Python 3 (ipykernel)",
   "language": "python",
   "name": "python3"
  },
  "language_info": {
   "codemirror_mode": {
    "name": "ipython",
    "version": 3
   },
   "file_extension": ".py",
   "mimetype": "text/x-python",
   "name": "python",
   "nbconvert_exporter": "python",
   "pygments_lexer": "ipython3",
   "version": "3.10.18"
  }
 },
 "nbformat": 4,
 "nbformat_minor": 5
}
